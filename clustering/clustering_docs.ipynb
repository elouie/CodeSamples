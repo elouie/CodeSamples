{
 "cells": [
  {
   "cell_type": "markdown",
   "metadata": {
    "deletable": false,
    "editable": false,
    "nbgrader": {
     "grade": false,
     "locked": true,
     "solution": false
    }
   },
   "source": [
    "# Welcome to the Speech Clustering Competition"
   ]
  },
  {
   "cell_type": "markdown",
   "metadata": {
    "deletable": false,
    "editable": false,
    "nbgrader": {
     "grade": false,
     "locked": true,
     "solution": false
    }
   },
   "source": [
    "## Set up\n",
    "\n",
    "The dataset presented is the transcripts of U.S. Congressional floor debates for different proposed legislations [1]. Instead of providing the raw dataset we have done some preprocessing and extracted the features from the raw dataset. The data set consists 2740 speeches from 38 debates. The preprocessed dataset is provided in two parts. The first part consists of a vector per speech consisting of features extracted from the text of the speech. The second part consists of a graph linking speeches. This graph is represented as an adjacency matrix of size 2740*2740. Following is a brief description of the files provided.\n",
    "\n",
    "Dataset Description:\n",
    "\n",
    "1) “csr_vectors.npz”\n",
    "SciPy sparse matrix save file representing 2740 speeches each encoded as a 50000 dimension vector.  Bag-of-words model is used to represent each speech and the feature set has been chosen based on the debate text. Each entry of a vector is a number proportionate to the frequency (normalized frequency) of the corresponding word in that document. The matrix is in \"<a href=\"https://en.wikipedia.org/wiki/Sparse_matrix#Compressed_sparse_row_(CSR,_CRS_or_Yale_format)\">CSR</a>\" format. \n",
    "\n",
    "2) “speech_graph_sparse.npz”\n",
    "This file contains a noisy graph of debates represented as adjacency matrix of dimension 2740*2740 a SciPy sparse matrix save file. Two speeches are connected in the graph (with some probability) if they both are in favor or against of a certain legislation. Two speeches are also connected (with some probability) if they occur in the debate for same legislation. In general, with some low probability noisy links might occur. This matrix is represented in <a href=\"https://en.wikipedia.org/wiki/Sparse_matrix#Coordinate_list_(COO)\">COO</a> format.\n",
    "\n",
    "To load the matrices into memory, you should use the following snippet:\n",
    "```\n",
    "import scipy.sparse as sp\n",
    "vectors = sp.load_npz('../resource/asnlib/publicdata/csr_vectors.npz')\n",
    "graph = sp.load_npz('../resource/asnlib/publicdata/speech_graph_sparse.npz')\n",
    "```\n",
    "\n",
    "Reference:\n",
    "[1] Matt Thomas, Bo Pang, and Lillian Lee, “Get out the vote: Determining support or opposition from Congressional floor-debate transcripts”, Proceedings of EMNLP, pp. 327--335, 2006"
   ]
  },
  {
   "cell_type": "markdown",
   "metadata": {
    "deletable": false,
    "editable": false,
    "nbgrader": {
     "grade": false,
     "locked": true,
     "solution": false
    }
   },
   "source": [
    "## The challenge\n",
    "\n",
    "Using the text and the graph information amongst the speeches, your goal is to cluster the 2740 speeches into two groups, the first group consisting of “Against” speeches and the second group consisting of “For” speeches. To start you off, you are told that points (rows, where the first row is number 0) 2, 13, 18, 24 are examples of speeches that belong to category “Against\" (=label 0) and speeches 1, 3, 27, 177 are examples of speeches that belong to the “For”(=label 1) category. Your goal is to produce a 2740 x 2 numpy array named `prediction`, where:\n",
    "\n",
    "The first column indicates which speech is being referred to, starting with speech 0, and the second column is either \"0” or “1”. So, the first row of the array in the array will be either \"0,0\" or \"0,1\". You will save this array to the file `result.npy` using the code in the Jupyter notebook cells below. \n",
    "\n",
    "We will evaluate your grouping against the ground truth (which is of course hidden from you — but from the information above, you know that some of its lines are \"1,1\", \"2,0\", \"3,1\", \"177,1\", etc. ). Your goal is to make as few mistakes as possible. We will evaluate how well your clustering predicts the actual categories of the articles and return to you accuracy in percentage. Higher the better.\n",
    "\n",
    "You can use any library you need and write your own method. You can work in groups of size at most 4. "
   ]
  },
  {
   "cell_type": "markdown",
   "metadata": {
    "deletable": false,
    "editable": false,
    "nbgrader": {
     "grade": false,
     "locked": true,
     "solution": false
    }
   },
   "source": [
    "## Tips:\n",
    "**Be careful with these large matrices!** For instance, eigendecomposing a very large matrix can be expensive in terms of time and memory! If you only need some eigenvalues, try only computing those eigenvalues. \n",
    "\n",
    "If you find Vocareum is being slow, you can download the datasets and develop your solution on your own computer. "
   ]
  },
  {
   "cell_type": "code",
   "execution_count": 220,
   "metadata": {
    "collapsed": true
   },
   "outputs": [],
   "source": [
    "#<GRADED>\n",
    "import numpy as np\n",
    "import scipy.sparse as sp\n",
    "from scipy.sparse import csr_matrix, coo_matrix\n",
    "from zipfile import ZipFile\n",
    "from sklearn.cluster import KMeans\n",
    "from sklearn.decomposition import PCA\n",
    "import matplotlib.pylab as plt\n",
    "from mpl_toolkits.mplot3d import Axes3D\n",
    "from sklearn.random_projection import SparseRandomProjection\n",
    "from sklearn.manifold import SpectralEmbedding\n",
    "from sklearn.feature_selection import VarianceThreshold\n",
    "from sklearn.cross_decomposition import CCA\n",
    "import seaborn as sns\n",
    "#</GRADED>"
   ]
  },
  {
   "cell_type": "code",
   "execution_count": 268,
   "metadata": {
    "collapsed": true
   },
   "outputs": [],
   "source": [
    "#<GRADED>\n",
    "def Competition_solution():\n",
    "\n",
    "# Store matrix in sparse matrix format and write to file\n",
    "    # X =  csr_matrix(X)\n",
    "    # sp.sparse.save_npz('data_your_name.npz', XX)\n",
    "\n",
    "# We load the extracted features into X and the graph into variable G\n",
    "\n",
    "# Now we load the graph and the data matrix (saved as a sparse matrix)\n",
    "    X = sp.load_npz('../resource/asnlib/publicdata/csr_vectors.npz')\n",
    "    G = sp.load_npz('../resource/asnlib/publicdata/speech_graph_sparse.npz')\n",
    "\n",
    "    n = X.shape[0]\n",
    "\n",
    "\n",
    "# Fill in your code below to do whatever you want so it fills in predictions for the \n",
    "# speeches to be one of the two classes {0,1}. Currently I have set it to \n",
    "# randomly pick labels for the speeches.\n",
    "\n",
    "    \n",
    " \n",
    "    # BEGIN: Get the TF-IDF matrix\n",
    "    # Step 1: Get sums of words vector\n",
    "    B = np.diff(X.tocsc().indptr)\n",
    "    # Step 2: Calculate the IDF score\n",
    "    IDF = sp.diags([np.log(n/B)], [0])\n",
    "    # Step 3: apply the IDF score to the TF score (X) by element-wise multiplication across the rows\n",
    "    TFIDF = X.copy().dot(IDF)\n",
    "    # END: Get the TF-IDF matrix\n",
    "\n",
    "    \n",
    "    # BEGIN: Drop low-variance terms that have little value\n",
    "#     print(\"Init: \", X.shape)\n",
    "    selector = VarianceThreshold()\n",
    "    TFIDF_clean = selector.fit_transform(TFIDF).toarray()[:,:100]\n",
    "#     print(\"Init: \", TFIDF_clean.shape)\n",
    "    # END: Drop low-variance\n",
    "\n",
    "    # BEGIN: Dimensionality-reduction on TFIDF\n",
    "    pca = PCA(n_components=3)\n",
    "    TFIDF_pca = pca.fit_transform(TFIDF_clean)\n",
    "    # END: Dimensionality-reduction on TFIDF\n",
    "    \n",
    "    # BEGIN: Spectral embedding (get affinity matrix)\n",
    "#     tsne = TSNE(n_components=2)\n",
    "#     TFIDF_low = tsne.fit_transform(TFIDF_pca)\n",
    "    embedding = SpectralEmbedding(n_components=20, affinity='precomputed').fit_transform(G.toarray())\n",
    "    cca = CCA(n_components=3)\n",
    "    cca.fit(TFIDF_pca, embedding[:,[3, 4, 7]])\n",
    "    U, V = cca.transform(TFIDF_pca, embedding[:,[3, 4, 7]]) # 7\n",
    "    clusters = KMeans(n_clusters=2, max_iter=20000).fit(V)\n",
    "    # END: Spectral embedding\n",
    "\n",
    "    prediction = np.hstack([np.arange(n).reshape(-1, 1), clusters.labels_.reshape(-1, 1)])\n",
    "\n",
    "    return prediction, U, V, TFIDF_clean, embedding\n",
    "#     return prediction\n",
    "\n",
    "#</GRADED>"
   ]
  },
  {
   "cell_type": "code",
   "execution_count": 269,
   "metadata": {
    "nbgrader": {
     "grade": false,
     "locked": false,
     "solution": false
    }
   },
   "outputs": [
    {
     "name": "stderr",
     "output_type": "stream",
     "text": [
      "/usr/local/lib/python3.6/site-packages/ipykernel_launcher.py:27: RuntimeWarning: divide by zero encountered in true_divide\n"
     ]
    }
   ],
   "source": [
    "# prediction = Competition_solution()\n",
    "prediction, U, V, T, E = Competition_solution()"
   ]
  },
  {
   "cell_type": "code",
   "execution_count": 273,
   "metadata": {},
   "outputs": [
    {
     "data": {
      "text/plain": [
       "array([[-3.79863482e-04, -9.98498173e-04],\n",
       "       [-9.60961052e-04, -4.15398297e-04],\n",
       "       [ 4.60833656e-04, -8.42651690e-04],\n",
       "       ...,\n",
       "       [-5.34806951e-04, -9.61304127e-05],\n",
       "       [-6.11820724e-04, -2.46324859e-04],\n",
       "       [-6.37356066e-04, -9.64510825e-04]])"
      ]
     },
     "execution_count": 273,
     "metadata": {},
     "output_type": "execute_result"
    }
   ],
   "source": [
    "E[:,[3,4]]"
   ]
  },
  {
   "cell_type": "code",
   "execution_count": 275,
   "metadata": {},
   "outputs": [
    {
     "data": {
      "text/plain": [
       "array([[-0.78362592, -2.30036873],\n",
       "       [-0.16317577, -1.03369709],\n",
       "       [-1.14687627,  0.05063188],\n",
       "       ...,\n",
       "       [ 0.16555089, -0.9743896 ],\n",
       "       [-0.03893139, -0.84041385],\n",
       "       [-1.49421602,  2.13615045]])"
      ]
     },
     "execution_count": 275,
     "metadata": {},
     "output_type": "execute_result"
    }
   ],
   "source": [
    "V[:,[0,1]]"
   ]
  },
  {
   "cell_type": "code",
   "execution_count": 270,
   "metadata": {},
   "outputs": [
    {
     "data": {
      "image/png": "[encoded data removed]",
      "text/plain": [
       "<Figure size 432x288 with 1 Axes>"
      ]
     },
     "metadata": {},
     "output_type": "display_data"
    }
   ],
   "source": [
    "j = 7\n",
    "customPalette = sns.color_palette()\n",
    "x = V[:,0]\n",
    "y = V[:,1]\n",
    "z = V[:,2]\n",
    "fig = plt.figure()\n",
    "ax = fig.add_subplot(111, projection='3d')\n",
    "for i in range(0,2):\n",
    "\n",
    "    #add data points \n",
    "    ax.scatter(xs=x[prediction[:,1]==i], \n",
    "                ys=y[prediction[:,1]==i], \n",
    "                zs=z[prediction[:,1]==i], \n",
    "                color=customPalette[i], \n",
    "                alpha=0.7)"
   ]
  },
  {
   "cell_type": "code",
   "execution_count": 271,
   "metadata": {},
   "outputs": [
    {
     "name": "stdout",
     "output_type": "stream",
     "text": [
      "Ratio of zero to nonzero, should be ~52.2%:  0.5142335766423358\n",
      "Predicted values for known transcripts. First half should be different than second half:  [0 0 0 0 1 1 1 0]\n"
     ]
    }
   ],
   "source": [
    "print(\"Ratio of zero to nonzero, should be ~52.2%: \", max(1 - (np.count_nonzero(prediction[:,1])/len(prediction)), np.count_nonzero(prediction[:,1])/len(prediction)))\n",
    "print(\"Predicted values for known transcripts. First half should be different than second half: \", prediction[[2, 13, 18, 24, 1, 3, 27, 177]][:,1])"
   ]
  },
  {
   "cell_type": "markdown",
   "metadata": {
    "deletable": false,
    "editable": false,
    "nbgrader": {
     "grade": false,
     "locked": true,
     "solution": false
    }
   },
   "source": [
    "The following code will generate a `result.npy` file, which contains your final prediction that we will grade upon. If you want to work offline instead, you can save your work as below with the title of `result.npy` and utilize the upload feature on Vocareum for grading. "
   ]
  },
  {
   "cell_type": "code",
   "execution_count": 235,
   "metadata": {
    "collapsed": true,
    "nbgrader": {
     "grade": false,
     "locked": false,
     "solution": false
    }
   },
   "outputs": [],
   "source": [
    "np.save('result.npy', prediction)"
   ]
  },
  {
   "cell_type": "code",
   "execution_count": null,
   "metadata": {
    "collapsed": true
   },
   "outputs": [],
   "source": []
  }
 ],
 "metadata": {
  "kernelspec": {
   "display_name": "Python 3 [3.6]",
   "language": "python",
   "name": "python3"
  },
  "language_info": {
   "codemirror_mode": {
    "name": "ipython",
    "version": 3
   },
   "file_extension": ".py",
   "mimetype": "text/x-python",
   "name": "python",
   "nbconvert_exporter": "python",
   "pygments_lexer": "ipython3",
   "version": "3.6.4"
  }
 },
 "nbformat": 4,
 "nbformat_minor": 2
}
